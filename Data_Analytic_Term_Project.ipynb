{
  "nbformat": 4,
  "nbformat_minor": 0,
  "metadata": {
    "colab": {
      "provenance": []
    },
    "kernelspec": {
      "name": "python3",
      "display_name": "Python 3"
    },
    "language_info": {
      "name": "python"
    }
  },
  "cells": [
    {
      "cell_type": "markdown",
      "source": [
        "# DATA CLEANING (การทำความสะอาดข้อมูล)"
      ],
      "metadata": {
        "id": "RXBgVFDxAX1j"
      }
    },
    {
      "cell_type": "code",
      "execution_count": null,
      "metadata": {
        "id": "_dom7aUGAL9h"
      },
      "outputs": [],
      "source": [
        "import pandas as pd\n",
        "import numpy as np"
      ]
    },
    {
      "cell_type": "code",
      "source": [
        "# โหลดข้อมูล\n",
        "df = pd.read_csv('/content/nike_sales_2024.csv')"
      ],
      "metadata": {
        "id": "VVF3NGfsAdXH"
      },
      "execution_count": null,
      "outputs": []
    },
    {
      "cell_type": "code",
      "source": [
        "#  ตรวจสอบข้อมูลเบื้องต้น\n",
        "print(df.shape)"
      ],
      "metadata": {
        "colab": {
          "base_uri": "https://localhost:8080/"
        },
        "id": "hRm_HDh4BLDU",
        "outputId": "7274d264-2b46-4174-9bf6-d2d2e6d0cea5"
      },
      "execution_count": null,
      "outputs": [
        {
          "output_type": "stream",
          "name": "stdout",
          "text": [
            "(1000, 10)\n"
          ]
        }
      ]
    },
    {
      "cell_type": "code",
      "source": [
        "print(df.info())"
      ],
      "metadata": {
        "colab": {
          "base_uri": "https://localhost:8080/"
        },
        "id": "OERt9BQLBct_",
        "outputId": "a6dfec79-e9ad-466e-def6-b0c2d8fadc15"
      },
      "execution_count": null,
      "outputs": [
        {
          "output_type": "stream",
          "name": "stdout",
          "text": [
            "<class 'pandas.core.frame.DataFrame'>\n",
            "RangeIndex: 1000 entries, 0 to 999\n",
            "Data columns (total 10 columns):\n",
            " #   Column                   Non-Null Count  Dtype  \n",
            "---  ------                   --------------  -----  \n",
            " 0   Month                    1000 non-null   object \n",
            " 1   Region                   1000 non-null   object \n",
            " 2   Main_Category            1000 non-null   object \n",
            " 3   Sub_Category             1000 non-null   object \n",
            " 4   Product_Line             1000 non-null   object \n",
            " 5   Price_Tier               1000 non-null   object \n",
            " 6   Units_Sold               1000 non-null   int64  \n",
            " 7   Revenue_USD              1000 non-null   object \n",
            " 8   Online_Sales_Percentage  1000 non-null   float64\n",
            " 9   Retail_Price             1000 non-null   int64  \n",
            "dtypes: float64(1), int64(2), object(7)\n",
            "memory usage: 78.3+ KB\n",
            "None\n"
          ]
        }
      ]
    },
    {
      "cell_type": "code",
      "source": [
        "print(df.head())"
      ],
      "metadata": {
        "colab": {
          "base_uri": "https://localhost:8080/"
        },
        "id": "mVbCduobBgNk",
        "outputId": "87a54bfe-ded7-4a99-f550-87dbea2cddda"
      },
      "execution_count": null,
      "outputs": [
        {
          "output_type": "stream",
          "name": "stdout",
          "text": [
            "      Month         Region Main_Category Sub_Category       Product_Line  \\\n",
            "0  November          India     Equipment         Bags           Gym Sack   \n",
            "1   January          India     Equipment  Accessories               Hats   \n",
            "2   October          India       Apparel         Tops        Tech Fleece   \n",
            "3  December  Greater China      Footwear      Cricket      Vapor Cricket   \n",
            "4       May  Greater China     Equipment        Socks  Performance Socks   \n",
            "\n",
            "  Price_Tier  Units_Sold     Revenue_USD  Online_Sales_Percentage  \\\n",
            "0     Budget       48356  $14,506,800.00                     73.0   \n",
            "1     Budget        9842   $2,066,820.00                     50.0   \n",
            "2  Mid-Range       25079   $1,755,530.00                     90.0   \n",
            "3    Premium       41404   $8,694,840.00                     58.0   \n",
            "4    Premium       33569   $5,371,040.00                     53.0   \n",
            "\n",
            "   Retail_Price  \n",
            "0           300  \n",
            "1           210  \n",
            "2            70  \n",
            "3           210  \n",
            "4           160  \n"
          ]
        }
      ]
    },
    {
      "cell_type": "code",
      "source": [
        "# แปลง Revenue_USD จาก string เป็น float\n",
        "df['Revenue_USD'] = df['Revenue_USD'].replace('[\\$,]', '', regex=True).astype(float)"
      ],
      "metadata": {
        "id": "hdl2jKhDBm4I"
      },
      "execution_count": null,
      "outputs": []
    },
    {
      "cell_type": "code",
      "source": [
        "# ตรวจสอบชนิดข้อมูลของคอลัมน์ Revenue_USD หลังแปลง\n",
        "print(df['Revenue_USD'].dtype)"
      ],
      "metadata": {
        "colab": {
          "base_uri": "https://localhost:8080/"
        },
        "id": "beijAKsMBs-W",
        "outputId": "3e72bdac-4520-47e9-ae4a-c35e70b4a09d"
      },
      "execution_count": null,
      "outputs": [
        {
          "output_type": "stream",
          "name": "stdout",
          "text": [
            "float64\n"
          ]
        }
      ]
    },
    {
      "cell_type": "code",
      "source": [
        "# ตรวจหา missing values และแสดงเฉพาะคอลัมน์ที่มี missing\n",
        "missing = df.isnull().sum()\n",
        "print(\"Missing values:\\n\", missing[missing > 0])"
      ],
      "metadata": {
        "colab": {
          "base_uri": "https://localhost:8080/"
        },
        "id": "HYUpnTQ5Cj-S",
        "outputId": "3bee6aca-2dc9-4c30-baa1-19b79fef20bd"
      },
      "execution_count": null,
      "outputs": [
        {
          "output_type": "stream",
          "name": "stdout",
          "text": [
            "Missing values:\n",
            " Series([], dtype: int64)\n"
          ]
        }
      ]
    },
    {
      "cell_type": "code",
      "source": [
        "# แปลงชนิดข้อมูล (เดือน)\n",
        "df['Order_Month'] = pd.to_datetime(df['Month'], format='%B', errors='coerce').dt.month"
      ],
      "metadata": {
        "id": "S_c6_McMCx1J"
      },
      "execution_count": null,
      "outputs": []
    },
    {
      "cell_type": "code",
      "source": [
        "# แสดงข้อมูล 5 แถวแรกเพื่อดูคอลัมน์ 'Order_Month' ที่สร้างขึ้นใหม่\n",
        "print(df[['Month', 'Order_Month']].head())\n",
        "\n",
        "# หรือตรวจสอบชนิดข้อมูลของคอลัมน์ใหม่\n",
        "print(df['Order_Month'].dtype)"
      ],
      "metadata": {
        "colab": {
          "base_uri": "https://localhost:8080/"
        },
        "id": "y5Q0lVeKC4-T",
        "outputId": "926bbe74-74a0-436a-e5ba-cb3cde11ed5c"
      },
      "execution_count": null,
      "outputs": [
        {
          "output_type": "stream",
          "name": "stdout",
          "text": [
            "      Month  Order_Month\n",
            "0  November           11\n",
            "1   January            1\n",
            "2   October           10\n",
            "3  December           12\n",
            "4       May            5\n",
            "int32\n"
          ]
        }
      ]
    },
    {
      "cell_type": "code",
      "source": [
        "# แปลง Online_Sales_Percentage เป็น float (หากมี format ผิด)\n",
        "df['Online_Sales_Percentage'] = df['Online_Sales_Percentage'].astype(float)"
      ],
      "metadata": {
        "id": "uOBmMqnEDZP0"
      },
      "execution_count": null,
      "outputs": []
    },
    {
      "cell_type": "code",
      "source": [
        "# ตรวจสอบชนิดข้อมูลของคอลัมน์ Online_Sales_Percentage หลังแปลง\n",
        "print(df['Online_Sales_Percentage'].dtype)"
      ],
      "metadata": {
        "colab": {
          "base_uri": "https://localhost:8080/"
        },
        "id": "_pGJ69_4Ddla",
        "outputId": "ffb43830-6722-49ba-8412-6b6a8bc9acd5"
      },
      "execution_count": null,
      "outputs": [
        {
          "output_type": "stream",
          "name": "stdout",
          "text": [
            "float64\n"
          ]
        }
      ]
    },
    {
      "cell_type": "code",
      "source": [
        "# แปลง Retail_Price ให้เป็น float ถ้ายังไม่ใช่\n",
        "df['Retail_Price'] = df['Retail_Price'].astype(float)"
      ],
      "metadata": {
        "id": "edhNYy-vDm9a"
      },
      "execution_count": null,
      "outputs": []
    },
    {
      "cell_type": "code",
      "source": [
        "# ตรวจสอบชนิดข้อมูลของคอลัมน์ Online_Sales_Percentage หลังแปลง\n",
        "print(df['Retail_Price'].dtype)"
      ],
      "metadata": {
        "colab": {
          "base_uri": "https://localhost:8080/"
        },
        "id": "KLP6hv8xDpXQ",
        "outputId": "2e9295b6-b710-4a48-f284-183cf92f4ec0"
      },
      "execution_count": null,
      "outputs": [
        {
          "output_type": "stream",
          "name": "stdout",
          "text": [
            "float64\n"
          ]
        }
      ]
    },
    {
      "cell_type": "code",
      "source": [
        "# ลบข้อมูลซ้ำ\n",
        "before = df.shape[0]\n",
        "df.drop_duplicates(inplace=True)\n",
        "after = df.shape[0]\n",
        "print(f\"ลบข้อมูลซ้ำแล้ว {before - after} แถว\")"
      ],
      "metadata": {
        "colab": {
          "base_uri": "https://localhost:8080/"
        },
        "id": "bnkH-exwDu1T",
        "outputId": "84d5a919-4fd4-4474-f0bc-85165b6c5cd5"
      },
      "execution_count": null,
      "outputs": [
        {
          "output_type": "stream",
          "name": "stdout",
          "text": [
            "ลบข้อมูลซ้ำแล้ว 0 แถว\n"
          ]
        }
      ]
    },
    {
      "cell_type": "code",
      "source": [
        "# ตรวจหาค่าที่ไม่สมเหตุผล (ค่าติดลบ)\n",
        "print(\"ค่าติดลบ:\\n\", df[df[['Units_Sold', 'Revenue_USD', 'Retail_Price']] < 0].dropna())"
      ],
      "metadata": {
        "colab": {
          "base_uri": "https://localhost:8080/"
        },
        "id": "RD59Lr5jD1SD",
        "outputId": "e2bc1bb2-6a1a-4963-f4e0-6bb578e85476"
      },
      "execution_count": null,
      "outputs": [
        {
          "output_type": "stream",
          "name": "stdout",
          "text": [
            "ค่าติดลบ:\n",
            " Empty DataFrame\n",
            "Columns: [Month, Region, Main_Category, Sub_Category, Product_Line, Price_Tier, Units_Sold, Revenue_USD, Online_Sales_Percentage, Retail_Price, Order_Month]\n",
            "Index: []\n"
          ]
        }
      ]
    },
    {
      "cell_type": "code",
      "source": [
        "print(df.info())"
      ],
      "metadata": {
        "colab": {
          "base_uri": "https://localhost:8080/"
        },
        "id": "ZYRREov5KMhZ",
        "outputId": "aaef12fa-18de-454a-aabe-b3c1ce62627d"
      },
      "execution_count": null,
      "outputs": [
        {
          "output_type": "stream",
          "name": "stdout",
          "text": [
            "<class 'pandas.core.frame.DataFrame'>\n",
            "RangeIndex: 1000 entries, 0 to 999\n",
            "Data columns (total 11 columns):\n",
            " #   Column                   Non-Null Count  Dtype  \n",
            "---  ------                   --------------  -----  \n",
            " 0   Month                    1000 non-null   object \n",
            " 1   Region                   1000 non-null   object \n",
            " 2   Main_Category            1000 non-null   object \n",
            " 3   Sub_Category             1000 non-null   object \n",
            " 4   Product_Line             1000 non-null   object \n",
            " 5   Price_Tier               1000 non-null   object \n",
            " 6   Units_Sold               1000 non-null   int64  \n",
            " 7   Revenue_USD              1000 non-null   float64\n",
            " 8   Online_Sales_Percentage  1000 non-null   float64\n",
            " 9   Retail_Price             1000 non-null   float64\n",
            " 10  Order_Month              1000 non-null   int32  \n",
            "dtypes: float64(3), int32(1), int64(1), object(6)\n",
            "memory usage: 82.2+ KB\n",
            "None\n"
          ]
        }
      ]
    },
    {
      "cell_type": "markdown",
      "source": [
        "#  FEATURE ENGINEERING (การสร้างคุณลักษณะใหม่)"
      ],
      "metadata": {
        "id": "jyqg_SobD763"
      }
    },
    {
      "cell_type": "code",
      "source": [
        "# นิยาม Cost ใหม่ (ตามข้อมูล: Revenue_USD คือ \"ต้นทุนรวม\")\n",
        "df['Cost'] = df['Revenue_USD']"
      ],
      "metadata": {
        "id": "943ClYPhEBFz"
      },
      "execution_count": null,
      "outputs": []
    },
    {
      "cell_type": "code",
      "source": [
        "# เช็ค: แสดงข้อมูล 5 แถวแรกเพื่อดูคอลัมน์ 'Revenue_USD' ที่สร้างขึ้นใหม่\n",
        "print(\"แสดงข้อมูล 5 แถวแรกพร้อมคอลัมน์ Revenue_USD:\")\n",
        "print(df.head())"
      ],
      "metadata": {
        "colab": {
          "base_uri": "https://localhost:8080/"
        },
        "id": "CiQ3FdOgEMxk",
        "outputId": "3b3b603e-63b8-4e19-d06d-e9cd87db7bc5"
      },
      "execution_count": null,
      "outputs": [
        {
          "output_type": "stream",
          "name": "stdout",
          "text": [
            "แสดงข้อมูล 5 แถวแรกพร้อมคอลัมน์ Revenue_USD:\n",
            "      Month         Region Main_Category Sub_Category       Product_Line  \\\n",
            "0  November          India     Equipment         Bags           Gym Sack   \n",
            "1   January          India     Equipment  Accessories               Hats   \n",
            "2   October          India       Apparel         Tops        Tech Fleece   \n",
            "3  December  Greater China      Footwear      Cricket      Vapor Cricket   \n",
            "4       May  Greater China     Equipment        Socks  Performance Socks   \n",
            "\n",
            "  Price_Tier  Units_Sold  Revenue_USD  Online_Sales_Percentage  Retail_Price  \\\n",
            "0     Budget       48356   14506800.0                     73.0         300.0   \n",
            "1     Budget        9842    2066820.0                     50.0         210.0   \n",
            "2  Mid-Range       25079    1755530.0                     90.0          70.0   \n",
            "3    Premium       41404    8694840.0                     58.0         210.0   \n",
            "4    Premium       33569    5371040.0                     53.0         160.0   \n",
            "\n",
            "   Order_Month        Cost  \n",
            "0           11  14506800.0  \n",
            "1            1   2066820.0  \n",
            "2           10   1755530.0  \n",
            "3           12   8694840.0  \n",
            "4            5   5371040.0  \n"
          ]
        }
      ]
    },
    {
      "cell_type": "code",
      "source": [
        "# คำนวณยอดขาย (Total Revenue หรือยอดขายรวม)\n",
        "df['Total_Revenue'] = df['Retail_Price'] * df['Units_Sold']"
      ],
      "metadata": {
        "id": "vWG5-U7uNR5o"
      },
      "execution_count": null,
      "outputs": []
    },
    {
      "cell_type": "code",
      "source": [
        "# คำนวณกำไร (Profit)\n",
        "df['Profit'] = df['Total_Revenue'] - df['Cost']"
      ],
      "metadata": {
        "id": "UHLei5H5NTHQ"
      },
      "execution_count": null,
      "outputs": []
    },
    {
      "cell_type": "code",
      "source": [
        "# เช็ค: แสดงข้อมูล 5 แถวแรกเพื่อดูคอลัมน์ 'Profit' ที่สร้างขึ้นใหม่\n",
        "print(\"แสดงข้อมูล 5 แถวแรกพร้อมคอลัมน์ Profit:\")\n",
        "print(df.head())"
      ],
      "metadata": {
        "colab": {
          "base_uri": "https://localhost:8080/"
        },
        "id": "PTY186DzNdx4",
        "outputId": "e3506653-8d85-4a70-a2a5-c2be3033a6d7"
      },
      "execution_count": null,
      "outputs": [
        {
          "output_type": "stream",
          "name": "stdout",
          "text": [
            "แสดงข้อมูล 5 แถวแรกพร้อมคอลัมน์ Profit:\n",
            "      Month         Region Main_Category Sub_Category       Product_Line  \\\n",
            "0  November          India     Equipment         Bags           Gym Sack   \n",
            "1   January          India     Equipment  Accessories               Hats   \n",
            "2   October          India       Apparel         Tops        Tech Fleece   \n",
            "3  December  Greater China      Footwear      Cricket      Vapor Cricket   \n",
            "4       May  Greater China     Equipment        Socks  Performance Socks   \n",
            "\n",
            "  Price_Tier  Units_Sold  Revenue_USD  Online_Sales_Percentage  Retail_Price  \\\n",
            "0     Budget       48356   14506800.0                     73.0         300.0   \n",
            "1     Budget        9842    2066820.0                     50.0         210.0   \n",
            "2  Mid-Range       25079    1755530.0                     90.0          70.0   \n",
            "3    Premium       41404    8694840.0                     58.0         210.0   \n",
            "4    Premium       33569    5371040.0                     53.0         160.0   \n",
            "\n",
            "   Order_Month        Cost  Total_Revenue  Profit  \n",
            "0           11  14506800.0     14506800.0     0.0  \n",
            "1            1   2066820.0      2066820.0     0.0  \n",
            "2           10   1755530.0      1755530.0     0.0  \n",
            "3           12   8694840.0      8694840.0     0.0  \n",
            "4            5   5371040.0      5371040.0     0.0  \n"
          ]
        }
      ]
    },
    {
      "cell_type": "code",
      "source": [
        "# คำนวณอัตรากำไร (Profit Margin)\n",
        "df['Profit_Margin'] = df['Profit'] / df['Total_Revenue']\n",
        "df['Profit_Margin'] = df['Profit_Margin'].round(2)"
      ],
      "metadata": {
        "id": "mftNjVNCNtfm"
      },
      "execution_count": null,
      "outputs": []
    },
    {
      "cell_type": "code",
      "source": [
        "# เช็ค: แสดงข้อมูล 5 แถวแรกเพื่อดูคอลัมน์ 'Profit Margin' ที่สร้างขึ้นใหม่\n",
        "print(\"แสดงข้อมูล 5 แถวแรกพร้อมคอลัมน์ Profit Margin:\")\n",
        "print(df.head())"
      ],
      "metadata": {
        "colab": {
          "base_uri": "https://localhost:8080/"
        },
        "id": "nYA3E3XRNxmy",
        "outputId": "8ae9460f-d206-421e-b66c-4a1b43c2690e"
      },
      "execution_count": null,
      "outputs": [
        {
          "output_type": "stream",
          "name": "stdout",
          "text": [
            "แสดงข้อมูล 5 แถวแรกพร้อมคอลัมน์ Profit Margin:\n",
            "      Month         Region Main_Category Sub_Category       Product_Line  \\\n",
            "0  November          India     Equipment         Bags           Gym Sack   \n",
            "1   January          India     Equipment  Accessories               Hats   \n",
            "2   October          India       Apparel         Tops        Tech Fleece   \n",
            "3  December  Greater China      Footwear      Cricket      Vapor Cricket   \n",
            "4       May  Greater China     Equipment        Socks  Performance Socks   \n",
            "\n",
            "  Price_Tier  Units_Sold  Revenue_USD  Online_Sales_Percentage  Retail_Price  \\\n",
            "0     Budget       48356   14506800.0                     73.0         300.0   \n",
            "1     Budget        9842    2066820.0                     50.0         210.0   \n",
            "2  Mid-Range       25079    1755530.0                     90.0          70.0   \n",
            "3    Premium       41404    8694840.0                     58.0         210.0   \n",
            "4    Premium       33569    5371040.0                     53.0         160.0   \n",
            "\n",
            "   Order_Month        Cost  Total_Revenue  Profit  Profit_Margin  \\\n",
            "0           11  14506800.0     14506800.0     0.0            0.0   \n",
            "1            1   2066820.0      2066820.0     0.0            0.0   \n",
            "2           10   1755530.0      1755530.0     0.0            0.0   \n",
            "3           12   8694840.0      8694840.0     0.0            0.0   \n",
            "4            5   5371040.0      5371040.0     0.0            0.0   \n",
            "\n",
            "   Unit_Sale_Price  \n",
            "0            300.0  \n",
            "1            210.0  \n",
            "2             70.0  \n",
            "3            210.0  \n",
            "4            160.0  \n"
          ]
        }
      ]
    },
    {
      "cell_type": "code",
      "source": [
        "# ฤดูกาล (Season)\n",
        "month_to_season = {\n",
        "    12: 'Winter', 1: 'Winter', 2: 'Winter',\n",
        "    3: 'Spring', 4: 'Spring', 5: 'Spring',\n",
        "    6: 'Summer', 7: 'Summer', 8: 'Summer',\n",
        "    9: 'Fall', 10: 'Fall', 11: 'Fall'\n",
        "}\n",
        "df['Season'] = df['Order_Month'].map(month_to_season)"
      ],
      "metadata": {
        "id": "9gJuJieRN5YB"
      },
      "execution_count": null,
      "outputs": []
    },
    {
      "cell_type": "code",
      "source": [
        "# เช็ค: แสดงข้อมูล 5 แถวแรกเพื่อดูคอลัมน์ 'Season' ที่สร้างขึ้นใหม่\n",
        "print(\"แสดงข้อมูล 5 แถวแรกพร้อมคอลัมน์ Season:\")\n",
        "print(df.head())"
      ],
      "metadata": {
        "colab": {
          "base_uri": "https://localhost:8080/"
        },
        "id": "7DNwayybOMAk",
        "outputId": "db8455ea-e6d1-48c4-84b8-8391e2137533"
      },
      "execution_count": null,
      "outputs": [
        {
          "output_type": "stream",
          "name": "stdout",
          "text": [
            "แสดงข้อมูล 5 แถวแรกพร้อมคอลัมน์ Season:\n",
            "      Month         Region Main_Category Sub_Category       Product_Line  \\\n",
            "0  November          India     Equipment         Bags           Gym Sack   \n",
            "1   January          India     Equipment  Accessories               Hats   \n",
            "2   October          India       Apparel         Tops        Tech Fleece   \n",
            "3  December  Greater China      Footwear      Cricket      Vapor Cricket   \n",
            "4       May  Greater China     Equipment        Socks  Performance Socks   \n",
            "\n",
            "  Price_Tier  Units_Sold  Revenue_USD  Online_Sales_Percentage  Retail_Price  \\\n",
            "0     Budget       48356   14506800.0                     73.0         300.0   \n",
            "1     Budget        9842    2066820.0                     50.0         210.0   \n",
            "2  Mid-Range       25079    1755530.0                     90.0          70.0   \n",
            "3    Premium       41404    8694840.0                     58.0         210.0   \n",
            "4    Premium       33569    5371040.0                     53.0         160.0   \n",
            "\n",
            "   Order_Month        Cost  Total_Revenue  Profit  Profit_Margin  \\\n",
            "0           11  14506800.0     14506800.0     0.0            0.0   \n",
            "1            1   2066820.0      2066820.0     0.0            0.0   \n",
            "2           10   1755530.0      1755530.0     0.0            0.0   \n",
            "3           12   8694840.0      8694840.0     0.0            0.0   \n",
            "4            5   5371040.0      5371040.0     0.0            0.0   \n",
            "\n",
            "   Unit_Sale_Price  Season  \n",
            "0            300.0    Fall  \n",
            "1            210.0  Winter  \n",
            "2             70.0    Fall  \n",
            "3            210.0  Winter  \n",
            "4            160.0  Spring  \n"
          ]
        }
      ]
    },
    {
      "cell_type": "code",
      "source": [
        "# ตรวจสอบค่าที่ไม่ซ้ำกันในคอลัมน์ Season\n",
        "print(\"\\nค่าที่ไม่ซ้ำกันในคอลัมน์ Season:\")\n",
        "print(df['Season'].unique())"
      ],
      "metadata": {
        "colab": {
          "base_uri": "https://localhost:8080/"
        },
        "id": "pXwISXzqOgOG",
        "outputId": "2de61e72-d9cb-432d-99e3-616f2ba44efa"
      },
      "execution_count": null,
      "outputs": [
        {
          "output_type": "stream",
          "name": "stdout",
          "text": [
            "\n",
            "ค่าที่ไม่ซ้ำกันในคอลัมน์ Season:\n",
            "['Fall' 'Winter' 'Spring' 'Summer']\n"
          ]
        }
      ]
    },
    {
      "cell_type": "code",
      "source": [
        "# นับจำนวนข้อมูลในแต่ละฤดูกาล\n",
        "print(\"\\nจำนวนข้อมูลในแต่ละฤดูกาล:\")\n",
        "print(df['Season'].value_counts())"
      ],
      "metadata": {
        "colab": {
          "base_uri": "https://localhost:8080/"
        },
        "id": "skceWLINOuku",
        "outputId": "8cbdedcd-1a1e-4622-ec6e-31931517bde7"
      },
      "execution_count": null,
      "outputs": [
        {
          "output_type": "stream",
          "name": "stdout",
          "text": [
            "\n",
            "จำนวนข้อมูลในแต่ละฤดูกาล:\n",
            "Season\n",
            "Winter    270\n",
            "Summer    256\n",
            "Fall      248\n",
            "Spring    226\n",
            "Name: count, dtype: int64\n"
          ]
        }
      ]
    },
    {
      "cell_type": "code",
      "source": [
        "# ราคาต่อชิ้นขาย (Unit Sale Price)\n",
        "df['Unit_Sale_Price'] = df['Total_Revenue'] / df['Units_Sold']\n",
        "df['Unit_Sale_Price'] = df['Unit_Sale_Price'].round(2)"
      ],
      "metadata": {
        "id": "Y1YvVMVOPhGz"
      },
      "execution_count": null,
      "outputs": []
    },
    {
      "cell_type": "code",
      "source": [
        "# เช็ค: แสดงข้อมูล 5 แถวแรกเพื่อดูคอลัมน์ 'Unit Sale Price' ที่สร้างขึ้นใหม่\n",
        "print(\"แสดงข้อมูล 5 แถวแรกพร้อมคอลัมน์ Unit Sale Price:\")\n",
        "print(df.head())"
      ],
      "metadata": {
        "colab": {
          "base_uri": "https://localhost:8080/"
        },
        "id": "y5JUysSWRTaC",
        "outputId": "6cd95334-2229-403d-d6bd-43a14ddaa56c"
      },
      "execution_count": null,
      "outputs": [
        {
          "output_type": "stream",
          "name": "stdout",
          "text": [
            "แสดงข้อมูล 5 แถวแรกพร้อมคอลัมน์ Unit Sale Price:\n",
            "      Month         Region Main_Category Sub_Category       Product_Line  \\\n",
            "0  November          India     Equipment         Bags           Gym Sack   \n",
            "1   January          India     Equipment  Accessories               Hats   \n",
            "2   October          India       Apparel         Tops        Tech Fleece   \n",
            "3  December  Greater China      Footwear      Cricket      Vapor Cricket   \n",
            "4       May  Greater China     Equipment        Socks  Performance Socks   \n",
            "\n",
            "  Price_Tier  Units_Sold  Revenue_USD  Online_Sales_Percentage  Retail_Price  \\\n",
            "0     Budget       48356   14506800.0                     73.0         300.0   \n",
            "1     Budget        9842    2066820.0                     50.0         210.0   \n",
            "2  Mid-Range       25079    1755530.0                     90.0          70.0   \n",
            "3    Premium       41404    8694840.0                     58.0         210.0   \n",
            "4    Premium       33569    5371040.0                     53.0         160.0   \n",
            "\n",
            "   Order_Month        Cost  Total_Revenue  Profit  Profit_Margin  \\\n",
            "0           11  14506800.0     14506800.0     0.0            0.0   \n",
            "1            1   2066820.0      2066820.0     0.0            0.0   \n",
            "2           10   1755530.0      1755530.0     0.0            0.0   \n",
            "3           12   8694840.0      8694840.0     0.0            0.0   \n",
            "4            5   5371040.0      5371040.0     0.0            0.0   \n",
            "\n",
            "   Unit_Sale_Price  Season  \n",
            "0            300.0    Fall  \n",
            "1            210.0  Winter  \n",
            "2             70.0    Fall  \n",
            "3            210.0  Winter  \n",
            "4            160.0  Spring  \n"
          ]
        }
      ]
    },
    {
      "cell_type": "code",
      "source": [
        "# เซฟ DataFrame เป็นไฟล์ CSV\n",
        "df.to_csv('nike_sales_processed.csv', index=False)\n",
        "\n",
        "print(\"บันทึกไฟล์ nike_sales_processed.csv เรียบร้อยแล้ว\")"
      ],
      "metadata": {
        "colab": {
          "base_uri": "https://localhost:8080/"
        },
        "id": "HfK9lr9JRnT5",
        "outputId": "c97a5f48-3a9e-438a-b88e-ee246eeea08e"
      },
      "execution_count": null,
      "outputs": [
        {
          "output_type": "stream",
          "name": "stdout",
          "text": [
            "บันทึกไฟล์ nike_sales_processed.csv เรียบร้อยแล้ว\n"
          ]
        }
      ]
    },
    {
      "cell_type": "code",
      "source": [
        "!pip install openpyxl"
      ],
      "metadata": {
        "colab": {
          "base_uri": "https://localhost:8080/"
        },
        "id": "EdyAFxlOR2t8",
        "outputId": "9546595c-a0d0-47c1-bff8-fc08fb7d9135"
      },
      "execution_count": null,
      "outputs": [
        {
          "output_type": "stream",
          "name": "stdout",
          "text": [
            "Requirement already satisfied: openpyxl in /usr/local/lib/python3.11/dist-packages (3.1.5)\n",
            "Requirement already satisfied: et-xmlfile in /usr/local/lib/python3.11/dist-packages (from openpyxl) (2.0.0)\n"
          ]
        }
      ]
    },
    {
      "cell_type": "code",
      "source": [
        "# เซฟ DataFrame เป็นไฟล์ Excel\n",
        "df.to_excel('nike_sales_processed.xlsx', index=False)\n",
        "\n",
        "print(\"บันทึกไฟล์ nike_sales_processed.xlsx เรียบร้อยแล้ว\")"
      ],
      "metadata": {
        "colab": {
          "base_uri": "https://localhost:8080/"
        },
        "id": "9eaOeGZvR4b9",
        "outputId": "28d220b7-f6de-447b-968b-bab6de58c110"
      },
      "execution_count": null,
      "outputs": [
        {
          "output_type": "stream",
          "name": "stdout",
          "text": [
            "บันทึกไฟล์ nike_sales_processed.xlsx เรียบร้อยแล้ว\n"
          ]
        }
      ]
    },
    {
      "cell_type": "markdown",
      "source": [
        "### 📌 การนิยามใหม่ของฟีเจอร์\n",
        "\n",
        "- `Revenue_USD` = ต้นทุนรวมต่อรายการ (จากแหล่งข้อมูล)\n",
        "- `Total_Revenue` = รายได้รวม (Retail_Price * Units_Sold)\n",
        "- `Profit` = กำไร = Total_Revenue - Cost\n",
        "- `Profit_Margin` = อัตรากำไร = Profit / Total_Revenue\n",
        "- `Unit_Sale_Price` = ราคาขายเฉลี่ยต่อหน่วย\n",
        "\n",
        "### 🎯 ฟีเจอร์ที่สร้างใหม่\n",
        "- **Cost** → คัดลอกมาจาก `Revenue_USD`\n",
        "- **Total_Revenue** → รายได้รวม\n",
        "- **Profit** → ยอดขาย - ต้นทุน\n",
        "- **Profit_Margin** → กำไรสุทธิ (แบบสัมพัทธ์)\n",
        "- **Season** → ฤดูกาลตามเดือน (Spring, Summer, Fall, Winter)\n",
        "- **Unit_Sale_Price** → รายได้เฉลี่ยต่อ 1 หน่วยสินค้า"
      ],
      "metadata": {
        "id": "vLH7dzdCSDJi"
      }
    }
  ]
}